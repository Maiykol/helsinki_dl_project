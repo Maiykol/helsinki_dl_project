{
 "cells": [
  {
   "cell_type": "markdown",
   "metadata": {},
   "source": [
    "# DATA20001 Deep Learning - Group Project\n",
    "## Image project\n",
    "\n",
    "**Due Thursday, May 20, before 23:59.**\n",
    "\n",
    "The task is to learn to assign the correct labels to a set of images.  The images are originally from a photo-sharing site and released under Creative Commons-licenses allowing sharing.  The training set contains 20 000 images. We have resized them and cropped them to 128x128 to make the task a bit more manageable.\n",
    "\n",
    "We're only giving you the code for downloading the data. The rest you'll have to do yourselves.\n",
    "\n",
    "Some comments and hints particular to the image project:\n",
    "\n",
    "- One image may belong to many classes in this problem, i.e., it's a multi-label classification problem. In fact there are images that don't belong to any of our classes, and you should also be able to handle these correctly. Pay careful attention to how you design the outputs of the network (e.g., what activation to use) and what loss function should be used.\n",
    "\n",
    "- As the dataset is pretty imbalanced, don't focus too strictly on the outputs being probabilistic. (Meaning that the right threshold for selecting the label might not be 0.5.)\n",
    "\n",
    "- Image files can be loaded as numpy matrices for example using `imread` from `matplotlib.pyplot`. Most images are color, but a few grayscale. You need to handle the grayscale ones somehow as they would have a different number of color channels (depth) than the color ones.\n",
    "\n",
    "- In the exercises we used e.g., `torchvision.datasets.MNIST` to handle the loading of the data in suitable batches. Here, you need to handle the dataloading yourself.  The easiest way is probably to create a custom `Dataset`. [See for example here for a tutorial](https://github.com/utkuozbulak/pytorch-custom-dataset-examples)."
   ]
  },
  {
   "cell_type": "markdown",
   "metadata": {},
   "source": [
    "## Get the data"
   ]
  },
  {
   "cell_type": "code",
   "execution_count": 10,
   "metadata": {},
   "outputs": [],
   "source": [
    "import sys\n",
    "import os\n",
    "from os.path import join\n",
    "from os.path import abspath\n",
    "from os.path import split\n",
    "\n",
    "import torch\n",
    "import torchvision\n",
    "from torchvision.datasets.utils import download_url\n",
    "from torch.utils.data.dataset import Dataset\n",
    "from torchvision import transforms\n",
    "import zipfile\n",
    "\n",
    "import matplotlib.pyplot as plt\n",
    "\n",
    "root_dir = os.getcwd()\n",
    "if root_dir not in sys.path:\n",
    "    sys.path.append(root_dir)\n",
    "    \n",
    "train_path = 'train'\n",
    "\n",
    "train_path_images = os.path.join(train_path, 'images')\n",
    "train_path_annotations = os.path.join(train_path, 'annotations')\n",
    "\n",
    "# check if we need to unzip data\n",
    "try:\n",
    "    os.listdir(train_path_images)\n",
    "except OSError as e:\n",
    "    data_folder_name = 'image-training-corpus+annotations'\n",
    "    DATA_FOLDER_DIR = os.path.abspath(os.path.join(root_dir, data_folder_name))\n",
    "\n",
    "    data_zip_name = 'dl2018-image-proj.zip'\n",
    "    DATA_ZIP_DIR = os.path.abspath(os.path.join(DATA_FOLDER_DIR, data_zip_name))\n",
    "\n",
    "    with zipfile.ZipFile(DATA_ZIP_DIR) as zip_f:\n",
    "        zip_f.extractall(train_path)\n",
    "        \n",
    "\n",
    "\n",
    "class CustomDataset(Dataset):\n",
    "    def __init__(self, train_path_images, train_path_annotations):\n",
    "        # store path to images to get images dynamically\n",
    "        self.train_path_images = train_path_images\n",
    "        \n",
    "        # get annotations\n",
    "        self.annotations = {} #{'1': 'bird', '2': 'baby', '3':'bird', ...}\n",
    "        for annotation_file in os.listdir(train_path_annotations):\n",
    "            category, _ = annotation_file.split('.')\n",
    "            with open(os.path.join(train_path_annotations, annotation_file)) as f:\n",
    "                for line in f:\n",
    "                    self.annotations[line.replace('\\n', '')] = category\n",
    "        \n",
    "        # (2) One way to do it is define transforms individually\n",
    "        # When you define the transforms it calls __init__() of the transform\n",
    "        #self.center_crop = transforms.CenterCrop(100)\n",
    "        #self.to_tensor = transforms.ToTensor()\n",
    "        \n",
    "        # (3) Or you can still compose them like \n",
    "        #self.transformations = \\\n",
    "        #    transforms.Compose([transforms.CenterCrop(100),\n",
    "        #                        transforms.ToTensor()])\n",
    "        \n",
    "    def __getitem__(self, index):\n",
    "        label = self.annotations[str(index)]\n",
    "        img = plt.imread(os.path.join(self.train_path_images, 'im{}.jpg'.format(index)))\n",
    "        \n",
    "        # When you call the transform for the second time it calls __call__() and applies the transform \n",
    "        #data = self.center_crop(data)  # (2)\n",
    "        #data = self.to_tensor(data)  # (2)\n",
    "        \n",
    "        # Or you can call the composed version\n",
    "        #data = self.transformations(data)  # (3)\n",
    "        \n",
    "        # Note that you only need one of the implementations, (2) or (3)\n",
    "        return (img, label)\n",
    "\n",
    "    def __len__(self):\n",
    "        return len(self.annotations)\n",
    "\n",
    "cd = CustomDataset(train_path_images, train_path_annotations)"
   ]
  },
  {
   "cell_type": "code",
   "execution_count": 13,
   "metadata": {},
   "outputs": [
    {
     "data": {
      "text/plain": [
       "(array([[[237, 213, 189],\n",
       "         [238, 214, 190],\n",
       "         [239, 215, 191],\n",
       "         ...,\n",
       "         [237, 207, 181],\n",
       "         [236, 206, 180],\n",
       "         [234, 204, 178]],\n",
       " \n",
       "        [[238, 212, 189],\n",
       "         [239, 213, 190],\n",
       "         [240, 214, 191],\n",
       "         ...,\n",
       "         [237, 207, 181],\n",
       "         [235, 205, 179],\n",
       "         [234, 204, 178]],\n",
       " \n",
       "        [[238, 210, 186],\n",
       "         [239, 211, 187],\n",
       "         [240, 212, 188],\n",
       "         ...,\n",
       "         [237, 206, 178],\n",
       "         [236, 205, 177],\n",
       "         [234, 203, 175]],\n",
       " \n",
       "        ...,\n",
       " \n",
       "        [[ 32,  37,  43],\n",
       "         [ 28,  33,  39],\n",
       "         [ 25,  30,  36],\n",
       "         ...,\n",
       "         [ 40,  40,  42],\n",
       "         [ 40,  40,  42],\n",
       "         [ 41,  41,  43]],\n",
       " \n",
       "        [[ 26,  31,  37],\n",
       "         [ 24,  29,  35],\n",
       "         [ 24,  29,  35],\n",
       "         ...,\n",
       "         [ 38,  38,  40],\n",
       "         [ 39,  39,  41],\n",
       "         [ 38,  38,  40]],\n",
       " \n",
       "        [[ 25,  28,  33],\n",
       "         [ 26,  29,  34],\n",
       "         [ 26,  29,  34],\n",
       "         ...,\n",
       "         [ 37,  37,  39],\n",
       "         [ 37,  37,  39],\n",
       "         [ 36,  36,  38]]], dtype=uint8), 'clouds')"
      ]
     },
     "execution_count": 13,
     "metadata": {},
     "output_type": "execute_result"
    }
   ],
   "source": [
    "cd.__getitem__(1000)"
   ]
  },
  {
   "cell_type": "markdown",
   "metadata": {},
   "source": [
    "The above command downloaded and extracted the data files into the `train` subdirectory.\n",
    "\n",
    "The images can be found in `train/images`, and are named as `im1.jpg`, `im2.jpg` and so on until `im20000.jpg`.\n",
    "\n",
    "The class labels, or annotations, can be found in `train/annotations` as `CLASSNAME.txt`, where CLASSNAME is one of the fourteen classes: *baby, bird, car, clouds, dog, female, flower, male, night, people, portrait, river, sea,* and *tree*.\n",
    "\n",
    "Each annotation file is a simple text file that lists the images that depict that class, one per line. The images are listed with their number, not the full filename. For example `5969` refers to the image `im5969.jpg`."
   ]
  },
  {
   "cell_type": "markdown",
   "metadata": {},
   "source": [
    "## Your stuff goes here ..."
   ]
  },
  {
   "cell_type": "code",
   "execution_count": null,
   "metadata": {},
   "outputs": [],
   "source": [
    "# Here goes your code ..."
   ]
  },
  {
   "cell_type": "markdown",
   "metadata": {},
   "source": [
    "## Save your model\n",
    "\n",
    "It might be useful to save your model if you want to continue your work later, or use it for inference later."
   ]
  },
  {
   "cell_type": "code",
   "execution_count": null,
   "metadata": {},
   "outputs": [],
   "source": [
    "torch.save(model.state_dict(), 'model.pkl')"
   ]
  },
  {
   "cell_type": "markdown",
   "metadata": {},
   "source": [
    "The model file should now be visible in the \"Home\" screen of the jupyter notebooks interface.  There you should be able to select it and press \"download\".  [See more here on how to load the model back](https://github.com/pytorch/pytorch/blob/761d6799beb3afa03657a71776412a2171ee7533/docs/source/notes/serialization.rst) if you want to continue training later."
   ]
  },
  {
   "cell_type": "markdown",
   "metadata": {},
   "source": [
    "## Download test set\n",
    "\n",
    "The testset will be made available during the last week before the deadline and can be downloaded in the same way as the training set."
   ]
  },
  {
   "cell_type": "markdown",
   "metadata": {},
   "source": [
    "## Predict for test set\n",
    "\n",
    "You should return your predictions for the test set in a plain text file.  The text file contains one row for each test set image.  Each row contains a binary prediction for each label (separated by a single space), 1 if it's present in the image, and 0 if not. The order of the labels is as follows (alphabetic order of the label names):\n",
    "\n",
    "    baby bird car clouds dog female flower male night people portrait river sea tree\n",
    "\n",
    "An example row could like like this if your system predicts the presense of a bird and clouds:\n",
    "\n",
    "    0 1 0 1 0 0 0 0 0 0 0 0 0 0\n",
    "    \n",
    "The order of the rows should be according to the numeric order of the image numbers.  In the test set, this means that the first row refers to image `im20001.jpg`, the second to `im20002.jpg`, and so on."
   ]
  },
  {
   "cell_type": "markdown",
   "metadata": {},
   "source": [
    "If you have the prediction output matrix prepared in `y` you can use the following function to save it to a text file."
   ]
  },
  {
   "cell_type": "code",
   "execution_count": null,
   "metadata": {},
   "outputs": [],
   "source": [
    "np.savetxt('results.txt', y, fmt='%d')"
   ]
  }
 ],
 "metadata": {
  "kernelspec": {
   "display_name": "Python 3",
   "language": "python",
   "name": "python3"
  },
  "language_info": {
   "codemirror_mode": {
    "name": "ipython",
    "version": 3
   },
   "file_extension": ".py",
   "mimetype": "text/x-python",
   "name": "python",
   "nbconvert_exporter": "python",
   "pygments_lexer": "ipython3",
   "version": "3.7.1"
  }
 },
 "nbformat": 4,
 "nbformat_minor": 2
}
